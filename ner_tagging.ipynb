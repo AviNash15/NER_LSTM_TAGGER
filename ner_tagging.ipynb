{
 "cells": [
  {
   "cell_type": "code",
   "execution_count": 1,
   "metadata": {},
   "outputs": [
    {
     "name": "stderr",
     "output_type": "stream",
     "text": [
      "Using TensorFlow backend.\n"
     ]
    }
   ],
   "source": [
    "from collections import Counter\n",
    "from tqdm import *\n",
    "from keras.preprocessing.sequence import pad_sequences\n",
    "from sklearn.model_selection import train_test_split\n",
    "from sklearn.externals import joblib\n",
    "from seqeval.metrics import *\n",
    "from keras.utils import to_categorical\n",
    "from keras.models import Model, Input\n",
    "from keras.layers import LSTM, Embedding, Dense, TimeDistributed, Dropout, Bidirectional,SpatialDropout1D\n",
    "import numpy as np\n",
    "from sklearn.preprocessing import LabelEncoder\n",
    "from keras.utils import plot_model\n",
    "from keras.callbacks import ModelCheckpoint, TensorBoard, EarlyStopping\n",
    "import matplotlib.pyplot as plt"
   ]
  },
  {
   "cell_type": "markdown",
   "metadata": {},
   "source": [
    "#### Function to parse NER Data"
   ]
  },
  {
   "cell_type": "code",
   "execution_count": 2,
   "metadata": {},
   "outputs": [],
   "source": [
    "def convert_data(path):\n",
    "    sents = []\n",
    "    sent = []\n",
    "    for line in tqdm(open(path)):\n",
    "        if len(line) == 0 or line.startswith('-DOCSTART') or line[0] == \"\\n\":\n",
    "            if len(sentence) > 0:\n",
    "                sents.append(sent)\n",
    "                sent = []\n",
    "            continue\n",
    "        splits = line.split(' ')\n",
    "        sent.append((splits[0].lower(), splits[-1].strip(\"\\n\")))\n",
    "\n",
    "    if len(sentence) > 0:\n",
    "        sents.append(sent)\n",
    "        sent = []\n",
    "    return sents"
   ]
  },
  {
   "cell_type": "code",
   "execution_count": 3,
   "metadata": {},
   "outputs": [
    {
     "name": "stderr",
     "output_type": "stream",
     "text": [
      "219554it [00:00, 814895.77it/s]\n",
      "55044it [00:00, 402171.31it/s]\n",
      "50350it [00:00, 886475.17it/s]\n"
     ]
    }
   ],
   "source": [
    "train_data = convert_data(\"./train.txt\")\n",
    "val_data   = convert_data(\"./valid.txt\")\n",
    "test_data  = convert_data(\"./test.txt\")"
   ]
  },
  {
   "cell_type": "code",
   "execution_count": 4,
   "metadata": {},
   "outputs": [],
   "source": [
    "tags  = set()\n",
    "words = set()"
   ]
  },
  {
   "cell_type": "code",
   "execution_count": 5,
   "metadata": {},
   "outputs": [],
   "source": [
    "def extract_word_label(data):\n",
    "    for sentence in data:\n",
    "        for i in range(len(sentence)):\n",
    "            tags.add(sentence[i][-1])\n",
    "            words.add(sentence[i][0])"
   ]
  },
  {
   "cell_type": "code",
   "execution_count": 6,
   "metadata": {},
   "outputs": [],
   "source": [
    "extract_word_label(train_data)\n",
    "extract_word_label(val_data)\n",
    "extract_word_label(test_data)"
   ]
  },
  {
   "cell_type": "markdown",
   "metadata": {},
   "source": [
    "#### plot to check doc length for train data"
   ]
  },
  {
   "cell_type": "code",
   "execution_count": 7,
   "metadata": {},
   "outputs": [
    {
     "data": {
      "image/png": "[encoded data removed]",
      "text/plain": [
       "<Figure size 432x288 with 1 Axes>"
      ]
     },
     "metadata": {
      "needs_background": "light"
     },
     "output_type": "display_data"
    }
   ],
   "source": [
    "plt.hist([len(s) for s in train_data],bins=50)\n",
    "plt.show()"
   ]
  },
  {
   "cell_type": "markdown",
   "metadata": {},
   "source": [
    "#### plot to check doc length for val data"
   ]
  },
  {
   "cell_type": "code",
   "execution_count": 8,
   "metadata": {},
   "outputs": [
    {
     "data": {
      "image/png": "[encoded data removed]",
      "text/plain": [
       "<Figure size 432x288 with 1 Axes>"
      ]
     },
     "metadata": {
      "needs_background": "light"
     },
     "output_type": "display_data"
    }
   ],
   "source": [
    "plt.hist([len(s) for s in val_data],bins=50)\n",
    "plt.show()"
   ]
  },
  {
   "cell_type": "markdown",
   "metadata": {},
   "source": [
    "#### getting maximum sentence length from train & val data. assign max as maxlen for padding "
   ]
  },
  {
   "cell_type": "code",
   "execution_count": 9,
   "metadata": {},
   "outputs": [],
   "source": [
    "sentences_train_len = [len(s) for s in train_data]\n",
    "sentences_val_len = [len(s) for s in val_data]"
   ]
  },
  {
   "cell_type": "code",
   "execution_count": 10,
   "metadata": {},
   "outputs": [],
   "source": [
    "maxlen_train = int(np.percentile(sentences_train_len,99))\n",
    "maxlen_val   = int(np.percentile(sentences_val_len,99))"
   ]
  },
  {
   "cell_type": "code",
   "execution_count": 11,
   "metadata": {},
   "outputs": [],
   "source": [
    "maxlen = max(maxlen_train,maxlen_val)"
   ]
  },
  {
   "cell_type": "code",
   "execution_count": 12,
   "metadata": {
    "scrolled": true
   },
   "outputs": [
    {
     "data": {
      "text/plain": [
       "49"
      ]
     },
     "execution_count": 12,
     "metadata": {},
     "output_type": "execute_result"
    }
   ],
   "source": [
    "maxlen"
   ]
  },
  {
   "cell_type": "markdown",
   "metadata": {},
   "source": [
    "#### Number of Unique words & Tags"
   ]
  },
  {
   "cell_type": "code",
   "execution_count": 13,
   "metadata": {},
   "outputs": [
    {
     "data": {
      "text/plain": [
       "(26869, 9)"
      ]
     },
     "execution_count": 13,
     "metadata": {},
     "output_type": "execute_result"
    }
   ],
   "source": [
    "len(words), len(tags)"
   ]
  },
  {
   "cell_type": "code",
   "execution_count": 14,
   "metadata": {},
   "outputs": [],
   "source": [
    "words = list(words)"
   ]
  },
  {
   "cell_type": "markdown",
   "metadata": {},
   "source": [
    "#### Converting words and tags to numerical representation. Here, i have assisgned 1 as UNK words, 0 for Padding. Therefore, i have started word index from 2. Similarly Tags from 1 to 9 & 0 for Padding."
   ]
  },
  {
   "cell_type": "code",
   "execution_count": 15,
   "metadata": {},
   "outputs": [],
   "source": [
    "word2idx = {w: i + 2 for i, w in enumerate(words)}\n",
    "word2idx[\"UNK\"] = 1\n",
    "word2idx[\"PAD\"] = 0\n",
    "idx2word = {i: w for w, i in word2idx.items()}\n",
    "tag2idx  = {t: i + 1 for i, t in enumerate(tags)}\n",
    "tag2idx[\"PAD\"] = 0\n",
    "idx2tag = {i: w for w, i in tag2idx.items()}"
   ]
  },
  {
   "cell_type": "code",
   "execution_count": 16,
   "metadata": {},
   "outputs": [],
   "source": [
    "X_train = [[word2idx[w[0]] for w in s] for s in train_data]"
   ]
  },
  {
   "cell_type": "code",
   "execution_count": 17,
   "metadata": {},
   "outputs": [],
   "source": [
    "X_train = pad_sequences(maxlen=maxlen, sequences=X_train, value=word2idx[\"PAD\"], padding='post', truncating='post')"
   ]
  },
  {
   "cell_type": "code",
   "execution_count": 18,
   "metadata": {},
   "outputs": [],
   "source": [
    "y_train = [[tag2idx[w[1]] for w in s] for s in train_data]"
   ]
  },
  {
   "cell_type": "code",
   "execution_count": 19,
   "metadata": {},
   "outputs": [],
   "source": [
    "y_train = pad_sequences(maxlen=maxlen, sequences=y_train, value=tag2idx[\"PAD\"], padding='post', truncating='post')"
   ]
  },
  {
   "cell_type": "code",
   "execution_count": 20,
   "metadata": {},
   "outputs": [],
   "source": [
    "y_train = [to_categorical(i, num_classes=len(tag2idx)) for i in y_train]"
   ]
  },
  {
   "cell_type": "code",
   "execution_count": 21,
   "metadata": {},
   "outputs": [],
   "source": [
    "X_val = [[word2idx[w[0]] for w in s] for s in val_data]"
   ]
  },
  {
   "cell_type": "code",
   "execution_count": 22,
   "metadata": {},
   "outputs": [],
   "source": [
    "X_val = pad_sequences(maxlen=maxlen, sequences=X_val, value=word2idx[\"PAD\"], padding='post', truncating='post')"
   ]
  },
  {
   "cell_type": "code",
   "execution_count": 23,
   "metadata": {},
   "outputs": [],
   "source": [
    "y_val = [[tag2idx[w[1]] for w in s] for s in val_data]"
   ]
  },
  {
   "cell_type": "code",
   "execution_count": 24,
   "metadata": {},
   "outputs": [],
   "source": [
    "y_val = pad_sequences(maxlen=maxlen, sequences=y_val, value=tag2idx[\"PAD\"], padding='post', truncating='post')"
   ]
  },
  {
   "cell_type": "code",
   "execution_count": 25,
   "metadata": {},
   "outputs": [],
   "source": [
    "y_val = [to_categorical(i, num_classes=len(tag2idx)) for i in y_val]"
   ]
  },
  {
   "cell_type": "markdown",
   "metadata": {},
   "source": [
    "#### Model Definition"
   ]
  },
  {
   "cell_type": "code",
   "execution_count": 29,
   "metadata": {},
   "outputs": [],
   "source": [
    "EMBEDDING_DIM = 50\n",
    "inputs = Input(shape=(maxlen,))\n",
    "embedding_layer = Embedding(input_dim=len(word2idx), \n",
    "                            output_dim=EMBEDDING_DIM, \n",
    "                            input_length=maxlen, \n",
    "                            mask_zero=True)(inputs)\n",
    "\n",
    "emb = SpatialDropout1D(0.2)(embedding_layer)\n",
    "lstm_layer = Bidirectional(LSTM(units=100, return_sequences=True))(emb)\n",
    "output = TimeDistributed(Dense(len(tag2idx), activation=\"softmax\"))(lstm_layer)\n",
    "\n",
    "model = Model(inputs, output)"
   ]
  },
  {
   "cell_type": "code",
   "execution_count": 30,
   "metadata": {},
   "outputs": [],
   "source": [
    "model.compile(optimizer=\"adam\", loss=\"categorical_crossentropy\", metrics=[\"accuracy\"])"
   ]
  },
  {
   "cell_type": "code",
   "execution_count": 31,
   "metadata": {},
   "outputs": [
    {
     "name": "stdout",
     "output_type": "stream",
     "text": [
      "_________________________________________________________________\n",
      "Layer (type)                 Output Shape              Param #   \n",
      "=================================================================\n",
      "input_2 (InputLayer)         (None, 49)                0         \n",
      "_________________________________________________________________\n",
      "embedding_2 (Embedding)      (None, 49, 50)            1343550   \n",
      "_________________________________________________________________\n",
      "spatial_dropout1d_2 (Spatial (None, 49, 50)            0         \n",
      "_________________________________________________________________\n",
      "bidirectional_1 (Bidirection (None, 49, 200)           120800    \n",
      "_________________________________________________________________\n",
      "time_distributed_1 (TimeDist (None, 49, 10)            2010      \n",
      "=================================================================\n",
      "Total params: 1,466,360\n",
      "Trainable params: 1,466,360\n",
      "Non-trainable params: 0\n",
      "_________________________________________________________________\n"
     ]
    }
   ],
   "source": [
    "model.summary()"
   ]
  },
  {
   "cell_type": "code",
   "execution_count": 32,
   "metadata": {},
   "outputs": [],
   "source": [
    "checkpoint = ModelCheckpoint('model_check_point.h5', monitor='val_acc', verbose=1, save_best_only=True, mode='max')\n",
    "early_stop = EarlyStopping(monitor='val_acc', min_delta=0, patience=3, verbose=1, mode='auto')"
   ]
  },
  {
   "cell_type": "code",
   "execution_count": 33,
   "metadata": {},
   "outputs": [
    {
     "name": "stdout",
     "output_type": "stream",
     "text": [
      "Train on 14041 samples, validate on 3250 samples\n",
      "Epoch 1/30\n",
      "14041/14041 [==============================] - 89s 6ms/step - loss: 0.6179 - acc: 0.8490 - val_loss: 0.4159 - val_acc: 0.8804\n",
      "\n",
      "Epoch 00001: val_acc improved from -inf to 0.88044, saving model to model_check_point.h5\n",
      "Epoch 2/30\n",
      "14041/14041 [==============================] - 102s 7ms/step - loss: 0.2500 - acc: 0.9241 - val_loss: 0.2629 - val_acc: 0.9323\n",
      "\n",
      "Epoch 00002: val_acc improved from 0.88044 to 0.93232, saving model to model_check_point.h5\n",
      "Epoch 3/30\n",
      "14041/14041 [==============================] - 105s 7ms/step - loss: 0.1251 - acc: 0.9660 - val_loss: 0.1989 - val_acc: 0.9469\n",
      "\n",
      "Epoch 00003: val_acc improved from 0.93232 to 0.94693, saving model to model_check_point.h5\n",
      "Epoch 4/30\n",
      "14041/14041 [==============================] - 102s 7ms/step - loss: 0.0724 - acc: 0.9801 - val_loss: 0.1866 - val_acc: 0.9520\n",
      "\n",
      "Epoch 00004: val_acc improved from 0.94693 to 0.95202, saving model to model_check_point.h5\n",
      "Epoch 5/30\n",
      "14041/14041 [==============================] - 100s 7ms/step - loss: 0.0497 - acc: 0.9856 - val_loss: 0.1769 - val_acc: 0.9553\n",
      "\n",
      "Epoch 00005: val_acc improved from 0.95202 to 0.95529, saving model to model_check_point.h5\n",
      "Epoch 6/30\n",
      "14041/14041 [==============================] - 99s 7ms/step - loss: 0.0348 - acc: 0.9899 - val_loss: 0.1866 - val_acc: 0.9569\n",
      "\n",
      "Epoch 00006: val_acc improved from 0.95529 to 0.95688, saving model to model_check_point.h5\n",
      "Epoch 7/30\n",
      "14041/14041 [==============================] - 99s 7ms/step - loss: 0.0269 - acc: 0.9921 - val_loss: 0.1861 - val_acc: 0.9562\n",
      "\n",
      "Epoch 00007: val_acc did not improve from 0.95688\n",
      "Epoch 8/30\n",
      "14041/14041 [==============================] - 99s 7ms/step - loss: 0.0213 - acc: 0.9939 - val_loss: 0.2067 - val_acc: 0.9531\n",
      "\n",
      "Epoch 00008: val_acc did not improve from 0.95688\n",
      "Epoch 9/30\n",
      "14041/14041 [==============================] - 99s 7ms/step - loss: 0.0169 - acc: 0.9949 - val_loss: 0.2066 - val_acc: 0.9566\n",
      "\n",
      "Epoch 00009: val_acc did not improve from 0.95688\n",
      "Epoch 00009: early stopping\n"
     ]
    }
   ],
   "source": [
    "history = model.fit(np.array(X_train),np.array(y_train), \n",
    "                    batch_size=32, \n",
    "                    epochs=30, \n",
    "                    validation_data=(np.array(X_val),np.array(y_val)),\n",
    "                    callbacks= [checkpoint, early_stop],\n",
    "                    verbose=1)"
   ]
  },
  {
   "cell_type": "code",
   "execution_count": null,
   "metadata": {},
   "outputs": [],
   "source": []
  }
 ],
 "metadata": {
  "kernelspec": {
   "display_name": "Python 3",
   "language": "python",
   "name": "python3"
  },
  "language_info": {
   "codemirror_mode": {
    "name": "ipython",
    "version": 3
   },
   "file_extension": ".py",
   "mimetype": "text/x-python",
   "name": "python",
   "nbconvert_exporter": "python",
   "pygments_lexer": "ipython3",
   "version": "3.7.1"
  }
 },
 "nbformat": 4,
 "nbformat_minor": 2
}
